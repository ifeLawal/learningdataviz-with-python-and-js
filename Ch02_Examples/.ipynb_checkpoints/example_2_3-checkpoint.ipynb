{
 "cells": [
  {
   "cell_type": "code",
   "execution_count": null,
   "metadata": {},
   "outputs": [],
   "source": []
  },
  {
   "cell_type": "code",
   "execution_count": 4,
   "metadata": {},
   "outputs": [],
   "source": [
    "# A\n",
    "student_data = [\n",
    "    {'name': 'Bob', 'id':0, 'scores':[68, 75, 56, 81]},\n",
    "    {'name': 'Alice', 'id':1,  'scores':[75, 90, 64, 88]},\n",
    "    {'name': 'Carol', 'id':2, 'scores':[59, 74, 71, 68]},\n",
    "    {'name': 'Dan', 'id':3, 'scores':[64, 58, 53, 62]},\n",
    "]"
   ]
  },
  {
   "cell_type": "code",
   "execution_count": 6,
   "metadata": {},
   "outputs": [
    {
     "name": "stdout",
     "output_type": "stream",
     "text": [
      "<class 'dict'>\n"
     ]
    }
   ],
   "source": [
    "print(type(student_data[0]))"
   ]
  },
  {
   "cell_type": "code",
   "execution_count": 16,
   "metadata": {},
   "outputs": [],
   "source": [
    "def process_student_data(data, pass_threshold=60, merit_threshold=75):\n",
    "    for sdata in data:\n",
    "        av = sum(sdata['scores'])/float(len(sdata['scores']))\n",
    "        sdata['average'] = av\n",
    "        if(av > merit_threshold):\n",
    "            sdata['status'] = \"Passed with merit\"\n",
    "        elif(av > pass_threshold):\n",
    "            sdata['status'] = \"passed\"\n",
    "        else:\n",
    "            sdata['status'] = \"failed\"\n",
    "        print(\"%s's (id: %d) final assessment is: %s\"%(\n",
    "            sdata['name'], sdata['id'], sdata['status'].upper()))\n",
    "        \n"
   ]
  },
  {
   "cell_type": "code",
   "execution_count": 7,
   "metadata": {},
   "outputs": [],
   "source": []
  },
  {
   "cell_type": "code",
   "execution_count": 17,
   "metadata": {},
   "outputs": [
    {
     "name": "stdout",
     "output_type": "stream",
     "text": [
      "Bob's (id: 0) final assessment is: PASSED\n",
      "Alice's (id: 1) final assessment is: PASSED WITH MERIT\n",
      "Carol's (id: 2) final assessment is: PASSED\n",
      "Dan's (id: 3) final assessment is: FAILED\n"
     ]
    }
   ],
   "source": [
    "process_student_data(student_data)"
   ]
  },
  {
   "cell_type": "code",
   "execution_count": 19,
   "metadata": {},
   "outputs": [
    {
     "name": "stdout",
     "output_type": "stream",
     "text": [
      "The key is a and the value is 3\n",
      "The key is b and the value is 2\n"
     ]
    }
   ],
   "source": [
    "foo = {'a': 3,'b':2}\n",
    "for key, value in foo.items():\n",
    "    print(\"The key is %s and the value is %i\"%(\n",
    "        key, value))"
   ]
  },
  {
   "cell_type": "code",
   "execution_count": null,
   "metadata": {},
   "outputs": [],
   "source": []
  }
 ],
 "metadata": {
  "kernelspec": {
   "display_name": "Python 3",
   "language": "python",
   "name": "python3"
  },
  "language_info": {
   "codemirror_mode": {
    "name": "ipython",
    "version": 3
   },
   "file_extension": ".py",
   "mimetype": "text/x-python",
   "name": "python",
   "nbconvert_exporter": "python",
   "pygments_lexer": "ipython3",
   "version": "3.7.4"
  }
 },
 "nbformat": 4,
 "nbformat_minor": 4
}
