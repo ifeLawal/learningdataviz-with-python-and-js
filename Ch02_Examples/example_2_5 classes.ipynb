{
 "cells": [
  {
   "cell_type": "code",
   "execution_count": 4,
   "metadata": {},
   "outputs": [],
   "source": [
    "class Citizen(object):\n",
    "    def __init__(self, name, country):\n",
    "        self.name = name;\n",
    "        self.country = country;\n",
    "        \n",
    "    def print_details(self):\n",
    "        print(\"Citizen %s from %s\"%(self.name, self.country))"
   ]
  },
  {
   "cell_type": "code",
   "execution_count": 6,
   "metadata": {},
   "outputs": [],
   "source": [
    "sam = Citizen(\"Steve\", \"Jabudi\")"
   ]
  },
  {
   "cell_type": "code",
   "execution_count": 7,
   "metadata": {},
   "outputs": [
    {
     "name": "stdout",
     "output_type": "stream",
     "text": [
      "Citizen Steve from Jabudi\n"
     ]
    }
   ],
   "source": [
    "sam.print_details()"
   ]
  },
  {
   "cell_type": "code",
   "execution_count": 10,
   "metadata": {},
   "outputs": [],
   "source": [
    "class Winner(Citizen):\n",
    "    def __init__(self, name, country, category, year):\n",
    "        super(Winner, self).__init__(name, country)\n",
    "        self.category = category\n",
    "        self.year = year\n",
    "    \n",
    "    def print_details(self):\n",
    "        print(\"Noble prize winner %s from %s, category %s, year %s\"\n",
    "                  %(self.name, self.country, self.category, self.country))"
   ]
  },
  {
   "cell_type": "code",
   "execution_count": 11,
   "metadata": {},
   "outputs": [
    {
     "name": "stdout",
     "output_type": "stream",
     "text": [
      "Noble prize winner Albert E. from Switzerland, category Physics, year Switzerland\n"
     ]
    }
   ],
   "source": [
    "w = Winner('Albert E.', 'Switzerland', 'Physics', 1921)\n",
    "w.print_details()"
   ]
  },
  {
   "cell_type": "code",
   "execution_count": null,
   "metadata": {},
   "outputs": [],
   "source": []
  }
 ],
 "metadata": {
  "kernelspec": {
   "display_name": "Python 3",
   "language": "python",
   "name": "python3"
  },
  "language_info": {
   "codemirror_mode": {
    "name": "ipython",
    "version": 3
   },
   "file_extension": ".py",
   "mimetype": "text/x-python",
   "name": "python",
   "nbconvert_exporter": "python",
   "pygments_lexer": "ipython3",
   "version": "3.7.4"
  }
 },
 "nbformat": 4,
 "nbformat_minor": 4
}
