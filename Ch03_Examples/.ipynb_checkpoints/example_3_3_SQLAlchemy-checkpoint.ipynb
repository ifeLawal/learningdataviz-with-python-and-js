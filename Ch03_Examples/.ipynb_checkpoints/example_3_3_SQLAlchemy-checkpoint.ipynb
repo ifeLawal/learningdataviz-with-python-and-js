{
 "cells": [
  {
   "cell_type": "code",
   "execution_count": 65,
   "metadata": {},
   "outputs": [],
   "source": [
    "nobel_winners = [\n",
    " {'category': 'Physics',\n",
    "  'name': 'Albert Einstein',\n",
    "  'nationality': 'Swiss',\n",
    "  'sex': 'male','year': 1921},\n",
    " {'category': 'Physics',\n",
    "  'name': 'Paul Dirac',\n",
    "  'nationality': 'British',\n",
    "  'sex': 'male',\n",
    "  'year': 1933},\n",
    " {'category': 'Chemistry',\n",
    "  'name': 'Marie Curie',\n",
    "  'nationality': 'Polish',\n",
    "  'sex': 'female',\n",
    "  'year': 1911}\n",
    "]\n",
    "\n",
    "import json"
   ]
  },
  {
   "cell_type": "code",
   "execution_count": 66,
   "metadata": {},
   "outputs": [
    {
     "data": {
      "text/plain": [
       "'[{\"category\": \"Physics\", \"name\": \"Albert Einstein\", \"nationality\": \"Swiss\", \"sex\": \"male\", \"year\": 1921}, {\"category\": \"Physics\", \"name\": \"Paul Dirac\", \"nationality\": \"British\", \"sex\": \"male\", \"year\": 1933}, {\"category\": \"Chemistry\", \"name\": \"Marie Curie\", \"nationality\": \"Polish\", \"sex\": \"female\", \"year\": 1911}]'"
      ]
     },
     "execution_count": 66,
     "metadata": {},
     "output_type": "execute_result"
    }
   ],
   "source": [
    "with open(\"data/nobel_winners.json\", \"w\") as f:\n",
    "    json.dump(nobel_winners, f)\n",
    "\n",
    "open(\"data/nobel_winners.json\").read()"
   ]
  },
  {
   "cell_type": "code",
   "execution_count": 68,
   "metadata": {},
   "outputs": [],
   "source": [
    "with open(\"data/nobel_winners.json\") as f:\n",
    "    nobel_winners_2 = json.load(f)"
   ]
  },
  {
   "cell_type": "code",
   "execution_count": 69,
   "metadata": {},
   "outputs": [
    {
     "data": {
      "text/plain": [
       "[{'category': 'Physics',\n",
       "  'name': 'Albert Einstein',\n",
       "  'nationality': 'Swiss',\n",
       "  'sex': 'male',\n",
       "  'year': 1921},\n",
       " {'category': 'Physics',\n",
       "  'name': 'Paul Dirac',\n",
       "  'nationality': 'British',\n",
       "  'sex': 'male',\n",
       "  'year': 1933},\n",
       " {'category': 'Chemistry',\n",
       "  'name': 'Marie Curie',\n",
       "  'nationality': 'Polish',\n",
       "  'sex': 'female',\n",
       "  'year': 1911}]"
      ]
     },
     "execution_count": 69,
     "metadata": {},
     "output_type": "execute_result"
    }
   ],
   "source": [
    "nobel_winners_2"
   ]
  },
  {
   "cell_type": "code",
   "execution_count": null,
   "metadata": {},
   "outputs": [],
   "source": []
  },
  {
   "cell_type": "code",
   "execution_count": 48,
   "metadata": {},
   "outputs": [],
   "source": []
  },
  {
   "cell_type": "code",
   "execution_count": 49,
   "metadata": {},
   "outputs": [],
   "source": []
  },
  {
   "cell_type": "code",
   "execution_count": null,
   "metadata": {},
   "outputs": [],
   "source": []
  },
  {
   "cell_type": "code",
   "execution_count": null,
   "metadata": {},
   "outputs": [],
   "source": []
  }
 ],
 "metadata": {
  "kernelspec": {
   "display_name": "Python 3",
   "language": "python",
   "name": "python3"
  },
  "language_info": {
   "codemirror_mode": {
    "name": "ipython",
    "version": 3
   },
   "file_extension": ".py",
   "mimetype": "text/x-python",
   "name": "python",
   "nbconvert_exporter": "python",
   "pygments_lexer": "ipython3",
   "version": "3.7.4"
  }
 },
 "nbformat": 4,
 "nbformat_minor": 4
}
