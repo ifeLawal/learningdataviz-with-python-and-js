{
 "cells": [
  {
   "cell_type": "code",
   "execution_count": 8,
   "metadata": {},
   "outputs": [],
   "source": [
    "nobel_winners = [\n",
    " {'category': 'Physics',\n",
    "  'name': 'Albert Einstein',\n",
    "  'nationality': 'Swiss',\n",
    "  'sex': 'male','year': 1921},\n",
    " {'category': 'Physics',\n",
    "  'name': 'Paul Dirac',\n",
    "  'nationality': 'British',\n",
    "  'sex': 'male',\n",
    "  'year': 1933},\n",
    " {'category': 'Chemistry',\n",
    "  'name': 'Marie Curie',\n",
    "  'nationality': 'Polish',\n",
    "  'sex': 'female',\n",
    "  'year': 1911}\n",
    "]\n",
    "\n",
    "f = open(\"data/nobel_winners.csv\", \"w\")"
   ]
  },
  {
   "cell_type": "code",
   "execution_count": 9,
   "metadata": {},
   "outputs": [],
   "source": [
    "cols = nobel_winners[0].keys()"
   ]
  },
  {
   "cell_type": "code",
   "execution_count": 15,
   "metadata": {},
   "outputs": [
    {
     "data": {
      "text/plain": [
       "['category', 'name', 'nationality', 'sex', 'year']"
      ]
     },
     "execution_count": 15,
     "metadata": {},
     "output_type": "execute_result"
    }
   ],
   "source": [
    "sorted(cols)"
   ]
  },
  {
   "cell_type": "code",
   "execution_count": 51,
   "metadata": {},
   "outputs": [
    {
     "name": "stdout",
     "output_type": "stream",
     "text": [
      "['Physics', 'Albert Einstein', 'Swiss', 'male', '1921']\n",
      "['Physics', 'Paul Dirac', 'British', 'male', '1933']\n",
      "['Chemistry', 'Marie Curie', 'Polish', 'female', '1911']\n"
     ]
    }
   ],
   "source": [
    "with open(\"data/nobel_winners.csv\", \"w\") as f:\n",
    "    f.write(\",\".join(cols)+\"\\n\")\n",
    "    for obj in nobel_winners:\n",
    "        row = [str(obj[col]) for col in cols]\n",
    "        print(row)\n",
    "        f.write(','.join(row)+\"\\n\")"
   ]
  },
  {
   "cell_type": "code",
   "execution_count": 53,
   "metadata": {},
   "outputs": [
    {
     "name": "stdout",
     "output_type": "stream",
     "text": [
      "category,name,nationality,sex,year\n",
      "\n",
      "Physics,Albert Einstein,Swiss,male,1921\n",
      "\n",
      "Physics,Paul Dirac,British,male,1933\n",
      "\n",
      "Chemistry,Marie Curie,Polish,female,1911\n",
      "\n"
     ]
    }
   ],
   "source": [
    "with open(\"data/nobel_winners.csv\") as f:\n",
    "    for l in f.readlines():\n",
    "        print(l)"
   ]
  },
  {
   "cell_type": "code",
   "execution_count": 48,
   "metadata": {},
   "outputs": [],
   "source": []
  },
  {
   "cell_type": "code",
   "execution_count": 49,
   "metadata": {},
   "outputs": [],
   "source": []
  },
  {
   "cell_type": "code",
   "execution_count": 50,
   "metadata": {},
   "outputs": [
    {
     "name": "stdout",
     "output_type": "stream",
     "text": [
      "Physics,Albert Einstein,Swiss,male,1921\n"
     ]
    }
   ],
   "source": []
  },
  {
   "cell_type": "code",
   "execution_count": null,
   "metadata": {},
   "outputs": [],
   "source": []
  }
 ],
 "metadata": {
  "kernelspec": {
   "display_name": "Python 3",
   "language": "python",
   "name": "python3"
  },
  "language_info": {
   "codemirror_mode": {
    "name": "ipython",
    "version": 3
   },
   "file_extension": ".py",
   "mimetype": "text/x-python",
   "name": "python",
   "nbconvert_exporter": "python",
   "pygments_lexer": "ipython3",
   "version": "3.7.4"
  }
 },
 "nbformat": 4,
 "nbformat_minor": 4
}
